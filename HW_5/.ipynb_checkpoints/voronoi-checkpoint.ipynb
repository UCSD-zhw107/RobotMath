{
 "cells": [
  {
   "cell_type": "code",
   "id": "initial_id",
   "metadata": {
    "collapsed": true,
    "ExecuteTime": {
     "end_time": "2024-12-06T22:54:00.397996Z",
     "start_time": "2024-12-06T22:53:58.479156Z"
    }
   },
   "source": [
    "import math\n",
    "import numpy as np\n",
    "import matplotlib.pyplot as plt\n",
    "from scipy.io import loadmat\n",
    "import heapq\n",
    "from scipy.ndimage import distance_transform_edt\n",
    "from skimage.morphology import skeletonize\n",
    "from skimage.draw import line\n",
    "\n"
   ],
   "outputs": [],
   "execution_count": 1
  },
  {
   "metadata": {},
   "cell_type": "markdown",
   "source": "# **Voronoi Diagram**",
   "id": "414476273a063fb0"
  },
  {
   "metadata": {
    "ExecuteTime": {
     "end_time": "2024-12-06T08:04:10.313483Z",
     "start_time": "2024-12-06T08:04:10.309977Z"
    }
   },
   "cell_type": "code",
   "source": [
    "map_resolution = 0.5\n",
    "angular_resolution = 5\n",
    "num_ori = 360 / angular_resolution"
   ],
   "id": "b256113a7c674fd7",
   "outputs": [],
   "execution_count": 20
  },
  {
   "metadata": {
    "ExecuteTime": {
     "end_time": "2024-12-06T08:04:10.681879Z",
     "start_time": "2024-12-06T08:04:10.667729Z"
    }
   },
   "cell_type": "code",
   "source": [
    "data = loadmat('cspaceMaps_python.mat')\n",
    "angles = data['angles'][0]\n",
    "map = data['mapMatrix']\n",
    "cspace = {}\n",
    "for index, angle in enumerate(angles):\n",
    "    space = data['cspace'][0][index]\n",
    "    cspace[angle] = space\n",
    "\n"
   ],
   "id": "ee0fef4ef6db0130",
   "outputs": [],
   "execution_count": 21
  },
  {
   "metadata": {
    "ExecuteTime": {
     "end_time": "2024-12-06T08:04:11.421712Z",
     "start_time": "2024-12-06T08:04:11.414384Z"
    }
   },
   "cell_type": "code",
   "source": [
    "class Voronoi():\n",
    "    def __init__(self, start, goal, cspace_map):\n",
    "        self.start = start\n",
    "        self.goal = goal\n",
    "        self.cspace = cspace_map\n",
    "        self.skeleton_set = None\n",
    "\n",
    "    def connect_to_skeleton(self, pos):\n",
    "        nodes_array = np.array(list(self.skeleton_set))\n",
    "        distances = np.linalg.norm(nodes_array - pos, axis=1)\n",
    "        nearest_idx = np.argmin(distances)\n",
    "        nearest_skel_point = tuple(nodes_array[nearest_idx])\n",
    "        rr, cc = line(int(pos[1]), int(pos[0]), int(nearest_skel_point[1]), int(nearest_skel_point[0]))\n",
    "        # Check collision\n",
    "        for y, x in zip(rr, cc):\n",
    "            if self.cspace[y, x] != 0:\n",
    "                return None\n",
    "        path_points = list(zip(cc, rr))\n",
    "        return path_points\n",
    "\n",
    "    def add_start_goal(self, start, goal):\n",
    "        start_pos = (start[0], start[1])\n",
    "        goal_pos = (goal[0], goal[1])\n",
    "        start_path = self.connect_to_skeleton(start_pos)\n",
    "        if start_path:\n",
    "            self.skeleton_set.update(start_path)\n",
    "        goal_path = self.connect_to_skeleton(goal_pos)\n",
    "        if goal_path:\n",
    "            self.skeleton_set.update(goal_path)\n",
    "\n",
    "\n",
    "    def run(self):\n",
    "        # build voronoi based on distance map\n",
    "        distance_map = distance_transform_edt(self.cspace == 0)\n",
    "        binary_map = distance_map > 0\n",
    "        skeleton = skeletonize(binary_map)\n",
    "        skeleton_indices = np.where(skeleton)\n",
    "        skeleton_points = np.column_stack((skeleton_indices[1], skeleton_indices[0]))\n",
    "        self.skeleton_set = set((int(x), int(y)) for x, y in skeleton_points)\n",
    "        # Add start and goal\n",
    "        self.add_start_goal(self.start, self.goal)\n",
    "        return self.skeleton_set\n",
    "\n"
   ],
   "id": "72195d0927df7aa2",
   "outputs": [],
   "execution_count": 22
  },
  {
   "metadata": {
    "ExecuteTime": {
     "end_time": "2024-12-06T08:04:12.329034Z",
     "start_time": "2024-12-06T08:04:12.324270Z"
    }
   },
   "cell_type": "code",
   "source": [
    "class Node:\n",
    "    def __init__(self, x, y, theta, g=0, h=0, f=0, parent=None):\n",
    "        self.x = x\n",
    "        self.y = y\n",
    "        self.theta = theta % 360\n",
    "        self.g = g\n",
    "        self.h = h\n",
    "        self.f = f\n",
    "        self.parent = parent\n",
    "    def __eq__(self, other):\n",
    "        return (self.x == other.x and self.y == other.y and self.theta == other.theta)\n",
    "\n",
    "    def __lt__(self, other):\n",
    "        return self.f < other.f\n",
    "\n",
    "    def key(self, angular_resolution):\n",
    "        return f\"{self.x}_{self.y}_{int(self.theta / angular_resolution)}\"\n",
    "\n"
   ],
   "id": "9885a59af1ed8586",
   "outputs": [],
   "execution_count": 23
  },
  {
   "metadata": {
    "ExecuteTime": {
     "end_time": "2024-12-06T08:04:12.974853Z",
     "start_time": "2024-12-06T08:04:12.962355Z"
    }
   },
   "cell_type": "code",
   "source": [
    "class A_Star:\n",
    "    def __init__(self, start, goal, cspace_maps, map_resolution=0.5, angular_resolution=5, skeleton_set=None):\n",
    "        self.start = start\n",
    "        self.goal = goal\n",
    "        self.cspace_maps = cspace_maps\n",
    "        self.map_resolution = map_resolution\n",
    "        self.angular_resolution = angular_resolution\n",
    "        self.open_list = []\n",
    "        self.closed_set = set()\n",
    "        self.map_size = cspace_maps[0].shape\n",
    "        self.path = []\n",
    "        self.total_steps = 0\n",
    "        self.skeleton_set = skeleton_set\n",
    "\n",
    "    def init_open_list(self):\n",
    "        start_node = Node(self.start[0], self.start[1], self.start[2])\n",
    "        start_node.h = self.get_heuristic(start_node)\n",
    "        start_node.f = start_node.g + start_node.h\n",
    "        heapq.heappush(self.open_list, (start_node.f, start_node))\n",
    "\n",
    "    def is_goal(self,node):\n",
    "        return node.x == self.goal[0] and node.y == self.goal[1]\n",
    "\n",
    "    def movement_cost(self, node, neighbor):\n",
    "        step_cost = 0\n",
    "        # Translation Cost\n",
    "        if node.x != neighbor.x or node.y != neighbor.y:\n",
    "            step_cost += 1\n",
    "        # Rotation Cost\n",
    "        '''angle_diff = min(abs(node.theta - neighbor.theta), 360 - abs(node.theta - neighbor.theta))\n",
    "        step_cost += angle_diff / angular_resolution'''\n",
    "        return step_cost\n",
    "\n",
    "    def get_heuristic(self, node):\n",
    "        '''\n",
    "        Apply Euclidean distance to a node and goal.\n",
    "        Args:\n",
    "            node: input node\n",
    "\n",
    "        Returns: heuristic value\n",
    "        '''\n",
    "        # Position Diff, Euclidean Distance\n",
    "        pos_diff = np.sqrt((node.x - self.goal[0]) ** 2 + (node.y - self.goal[1]) ** 2)\n",
    "        # Angle Diff\n",
    "        angle_diff = min(abs(node.theta - self.goal[2]), 360 - abs(node.theta - self.goal[2])) / self.angular_resolution\n",
    "        return pos_diff + angle_diff\n",
    "\n",
    "    def reconstruct_path(self,node):\n",
    "        path = []\n",
    "        total_steps = node.g\n",
    "        while node:\n",
    "            path.append((node.x, node.y, node.theta))\n",
    "            node = node.parent\n",
    "        path.reverse()\n",
    "        return path, total_steps\n",
    "\n",
    "    def gen_neighbors(self, node):\n",
    "        neighbors = []\n",
    "        directions = [\n",
    "            (0, 1, 90),\n",
    "            (1, 0, 0),\n",
    "            (0, -1, 270),\n",
    "            (-1, 0, 180),\n",
    "            (1, 1, 45),\n",
    "            (1, -1, 315),\n",
    "            (-1, -1, 225),\n",
    "            (-1, 1, 135),\n",
    "        ]\n",
    "        for dx, dy, target_theta in directions:\n",
    "            new_x = node.x + dx\n",
    "            new_y = node.y + dy\n",
    "\n",
    "            # Not on Voronoi Diagram\n",
    "            if self.skeleton_set and (new_x, new_y) not in self.skeleton_set:\n",
    "                continue\n",
    "\n",
    "            angle_diff = (target_theta - node.theta + 360) % 360\n",
    "            steps_to_rotate = angle_diff / angular_resolution\n",
    "            # Need Rotation\n",
    "            if steps_to_rotate != 0:\n",
    "                rotation_direction = angular_resolution if angle_diff <= 180 else -angular_resolution\n",
    "                temp_theta = node.theta\n",
    "                collision = False\n",
    "                # Gradually make rotation & Check collision: 5 degree at a time\n",
    "                while temp_theta != target_theta:\n",
    "                    temp_theta = (temp_theta + rotation_direction + 360) % 360\n",
    "                    angle_idx = int(temp_theta / angular_resolution) % len(self.cspace_maps)\n",
    "                    if self.cspace_maps[angles[angle_idx]][node.y][node.x] > 0:\n",
    "                        collision = True\n",
    "                        break\n",
    "                if collision:\n",
    "                    continue\n",
    "\n",
    "            # Check boundary\n",
    "            if new_x < 0 or new_x >= self.map_size[1] or new_y < 0 or new_y >= self.map_size[0]:\n",
    "                continue\n",
    "\n",
    "            # Check collision with new orientation\n",
    "            angle_idx = int(target_theta / angular_resolution) % len(self.cspace_maps)\n",
    "            if self.cspace_maps[angles[angle_idx]][new_y][new_x] > 0:\n",
    "                continue\n",
    "            neighbor = Node(new_x, new_y, target_theta)\n",
    "            neighbors.append(neighbor)\n",
    "        return neighbors\n",
    "\n",
    "    def run(self):\n",
    "        # Open List is not empty\n",
    "        while self.open_list:\n",
    "            current_node = heapq.heappop(self.open_list)[1]\n",
    "            # Check Goal\n",
    "            if self.is_goal(current_node):\n",
    "                self.path, self.total_steps = self.reconstruct_path(current_node)\n",
    "                return\n",
    "            # Add current node to closed set\n",
    "            key = current_node.key(self.angular_resolution)\n",
    "            self.closed_set.add(key)\n",
    "\n",
    "            # Get Neighbor\n",
    "            neighbors = self.gen_neighbors(current_node)\n",
    "            for neighbor in neighbors:\n",
    "                # Check if neighbor in closed list\n",
    "                key = neighbor.key(self.angular_resolution)\n",
    "                if key in self.closed_set:\n",
    "                    continue\n",
    "\n",
    "                # Compute g for neighbor\n",
    "                tentative_g = current_node.g + self.movement_cost(current_node, neighbor)\n",
    "\n",
    "                # Update if neighbor in open list\n",
    "                in_open_list = False\n",
    "                for item in self.open_list:\n",
    "                    if neighbor == item[1]:\n",
    "                        in_open_list = True\n",
    "                        if tentative_g < neighbor.g:\n",
    "                            neighbor.g = tentative_g\n",
    "                            neighbor.f = neighbor.g + neighbor.h\n",
    "                            neighbor.parent = current_node\n",
    "                        break\n",
    "                # Add if neighbor not in open list\n",
    "                if not in_open_list:\n",
    "                    neighbor.g = tentative_g\n",
    "                    neighbor.h = self.get_heuristic(neighbor)\n",
    "                    neighbor.f = neighbor.g + neighbor.h\n",
    "                    neighbor.parent = current_node\n",
    "                    heapq.heappush(self.open_list, (neighbor.f, neighbor))\n",
    "        return"
   ],
   "id": "6320701bae42bf5c",
   "outputs": [],
   "execution_count": 24
  },
  {
   "metadata": {
    "ExecuteTime": {
     "end_time": "2024-12-06T08:04:16.855337Z",
     "start_time": "2024-12-06T08:04:16.738726Z"
    }
   },
   "cell_type": "code",
   "source": [
    "start = [25,25,90]\n",
    "goal = [375,25,0]\n",
    "cspace_map = cspace[45]\n",
    "vor = Voronoi(start, goal, cspace_map)\n",
    "skeleton_set = vor.run()\n",
    "planner = A_Star(start,goal,cspace,map_resolution,angular_resolution, skeleton_set)\n",
    "planner.init_open_list()\n",
    "planner.run()"
   ],
   "id": "362428fadb419b9f",
   "outputs": [],
   "execution_count": 25
  },
  {
   "metadata": {
    "ExecuteTime": {
     "end_time": "2024-12-06T08:04:49.343394Z",
     "start_time": "2024-12-06T08:04:47.311703Z"
    }
   },
   "cell_type": "code",
   "source": [
    "path = planner.path\n",
    "path_x = [p[0] for p in path]\n",
    "path_y = [p[1] for p in path]\n",
    "path_theta = [p[2] for p in path]\n",
    "map_display = 1 - map\n",
    "plt.figure(figsize=(10, 8))\n",
    "plt.imshow(map_display, cmap='gray', origin='upper')\n",
    "plt.plot(path_x, path_y, 'r-', linewidth=2)\n",
    "\n",
    "plt.plot(start[0], start[1], 'go', markersize=10, label='Start')\n",
    "plt.plot(goal[0], goal[1], 'ro', markersize=10, label='Goal')\n",
    "for x, y, theta in path:\n",
    "    dx = np.cos(np.radians(theta)) * 10\n",
    "    dy = np.sin(np.radians(theta)) * 10\n",
    "    plt.arrow(x, y, dx, dy, head_width=5, head_length=5, fc='green', ec='green')\n",
    "\n",
    "plt.title(f'Total Steps: {planner.total_steps}')\n",
    "plt.legend()\n",
    "plt.xlabel('X')\n",
    "plt.ylabel('Y')\n",
    "plt.savefig('voronoi.png')\n",
    "plt.show()"
   ],
   "id": "31f593bf0d4cf101",
   "outputs": [
    {
     "data": {
      "text/plain": [
       "<Figure size 1000x800 with 1 Axes>"
      ],
      "image/png": "[encoded data removed]"
     },
     "metadata": {},
     "output_type": "display_data"
    }
   ],
   "execution_count": 27
  },
  {
   "metadata": {},
   "cell_type": "code",
   "outputs": [],
   "execution_count": null,
   "source": "",
   "id": "220a9aab9c3fa46a"
  }
 ],
 "metadata": {
  "kernelspec": {
   "display_name": "Python 3",
   "language": "python",
   "name": "python3"
  },
  "language_info": {
   "codemirror_mode": {
    "name": "ipython",
    "version": 2
   },
   "file_extension": ".py",
   "mimetype": "text/x-python",
   "name": "python",
   "nbconvert_exporter": "python",
   "pygments_lexer": "ipython2",
   "version": "2.7.6"
  }
 },
 "nbformat": 4,
 "nbformat_minor": 5
}
