{
 "cells": [
  {
   "cell_type": "code",
   "id": "initial_id",
   "metadata": {
    "collapsed": true,
    "ExecuteTime": {
     "end_time": "2024-11-21T11:58:37.045523Z",
     "start_time": "2024-11-21T11:58:37.042715Z"
    }
   },
   "source": [
    "import numpy as np\n",
    "import matplotlib.pyplot as plt\n",
    "import scipy as sp\n",
    "import cv2\n",
    "import pandas as pd\n",
    "import os"
   ],
   "outputs": [],
   "execution_count": 363
  },
  {
   "metadata": {
    "ExecuteTime": {
     "end_time": "2024-11-21T11:58:38.418561Z",
     "start_time": "2024-11-21T11:58:38.381897Z"
    }
   },
   "cell_type": "code",
   "source": [
    "# File Path\n",
    "train_data_path = './archive/Train.csv'\n",
    "test_data_path = './archive/Test.csv'\n",
    "train_raw_data = pd.read_csv(train_data_path)\n",
    "test_raw_data = pd.read_csv(test_data_path)"
   ],
   "id": "3a4100792bdf6919",
   "outputs": [],
   "execution_count": 364
  },
  {
   "metadata": {
    "ExecuteTime": {
     "end_time": "2024-11-21T11:58:39.148673Z",
     "start_time": "2024-11-21T11:58:39.143217Z"
    }
   },
   "cell_type": "code",
   "source": [
    "# Data Preprocessing\n",
    "# Resize Image\n",
    "def resize_with_aspect_ratio(image, target_size):\n",
    "    target_width, target_height = target_size\n",
    "    h, w = image.shape\n",
    "    scale = min(target_width / w, target_height / h)\n",
    "    new_w, new_h = int(w * scale), int(h * scale)\n",
    "    resize = cv2.resize(image, (new_w, new_h))\n",
    "    pad_left = (target_width - new_w) // 2\n",
    "    pad_right = target_width - new_w - pad_left\n",
    "    pad_top = (target_height - new_h) // 2\n",
    "    pad_bottom = target_height - new_h - pad_top\n",
    "    padded_image = cv2.copyMakeBorder(resize, pad_top, pad_bottom, pad_left, pad_right, cv2.BORDER_CONSTANT, value=0)\n",
    "    return padded_image\n",
    "\n",
    "# Extract ROI of each image\n",
    "def preprocessImage(img_data, target_size):\n",
    "    image_array = []\n",
    "    class_list = []\n",
    "    for index, row in img_data.iterrows():\n",
    "        image_path = os.path.join('./archive', row['Path'])\n",
    "        class_id = row['ClassId']\n",
    "        class_list.append(class_id)\n",
    "        image = cv2.imread(image_path)\n",
    "        x1,y1,x2,y2 = int(row['Roi.X1']), int(row['Roi.Y1']), int(row['Roi.X2']), int(row['Roi.Y2'])\n",
    "        image_roi = image[y1:y2, x1:x2]\n",
    "        # Convert to grayscale\n",
    "        gray_image = cv2.cvtColor(image_roi, cv2.COLOR_BGR2GRAY)\n",
    "        # Resize Image\n",
    "        resized = resize_with_aspect_ratio(gray_image, target_size)\n",
    "        # Flatten Image\n",
    "        fattened_image = resized.flatten()\n",
    "        image_array.append(fattened_image.reshape(-1,1))\n",
    "    return image_array, class_list"
   ],
   "id": "2e8eb2d422b4af37",
   "outputs": [],
   "execution_count": 365
  },
  {
   "metadata": {
    "ExecuteTime": {
     "end_time": "2024-11-21T11:58:48.700339Z",
     "start_time": "2024-11-21T11:58:40.090176Z"
    }
   },
   "cell_type": "code",
   "source": [
    "# Training Set\n",
    "TARGET_SIZE = (64, 64)\n",
    "# Training: data & classes\n",
    "train_data,train_class = preprocessImage(train_raw_data, TARGET_SIZE)\n",
    "# Training: number of images\n",
    "train_num_img = len(train_data)\n",
    "train_data = np.hstack(train_data)\n",
    "# Training: number of classes\n",
    "train_num_class = len(set(train_class))\n",
    "train_class = np.asarray(train_class)"
   ],
   "id": "87f85d0398a2e1d8",
   "outputs": [],
   "execution_count": 366
  },
  {
   "metadata": {
    "ExecuteTime": {
     "end_time": "2024-11-21T11:58:52.140200Z",
     "start_time": "2024-11-21T11:58:49.365142Z"
    }
   },
   "cell_type": "code",
   "source": [
    "# Test Set\n",
    "TARGET_SIZE = (64, 64)\n",
    "# Test: data & classes\n",
    "test_data,test_class = preprocessImage(test_raw_data, TARGET_SIZE)\n",
    "# Test: number of images\n",
    "test_num_img = len(test_data)\n",
    "test_data = np.hstack(test_data)\n",
    "# Test: number of classes\n",
    "test_num_class = len(set(test_class))\n",
    "test_class = np.asarray(test_class)"
   ],
   "id": "95e02c014213964b",
   "outputs": [],
   "execution_count": 367
  },
  {
   "metadata": {
    "ExecuteTime": {
     "end_time": "2024-11-21T11:58:52.835860Z",
     "start_time": "2024-11-21T11:58:52.791596Z"
    }
   },
   "cell_type": "code",
   "source": [
    "# Check Image\n",
    "def check_resolution(data, size, index):\n",
    "    pic = data[:,index]\n",
    "    pic = pic.reshape(size[0],size[1])\n",
    "    plt.imshow(pic, cmap='gray')\n",
    "    plt.title(\"Restored Image\")\n",
    "    plt.axis(\"off\")\n",
    "    plt.show()\n",
    "check_resolution(test_data, TARGET_SIZE, 1)\n"
   ],
   "id": "e208182a96518385",
   "outputs": [
    {
     "data": {
      "text/plain": [
       "<Figure size 640x480 with 1 Axes>"
      ],
      "image/png": "[encoded data removed]"
     },
     "metadata": {},
     "output_type": "display_data"
    }
   ],
   "execution_count": 368
  },
  {
   "metadata": {
    "ExecuteTime": {
     "end_time": "2024-11-21T11:58:54.178981Z",
     "start_time": "2024-11-21T11:58:54.174510Z"
    }
   },
   "cell_type": "code",
   "source": [
    "# PCA\n",
    "def pca(pixel, k=0):\n",
    "    m,n = pixel.shape\n",
    "    # Normalize\n",
    "    mean = np.mean(pixel, axis=1, keepdims=True)\n",
    "    pixel_norm = pixel - mean\n",
    "    # Covariance Matrix\n",
    "    Q = np.dot(pixel_norm, pixel_norm.T) / n\n",
    "    eigenvalues, eigenvectors = np.linalg.eigh(Q)\n",
    "    # Eigenvectors & Eigenvalue\n",
    "    idx = np.argsort(eigenvalues)[::-1]\n",
    "    eigenvalues = eigenvalues[idx]\n",
    "    eigenvectors = eigenvectors[:, idx]\n",
    "    # Keep the top-k eigenvalue and eigenvector\n",
    "    eigenvectors = eigenvectors[:,:k] if k != 0 else eigenvectors\n",
    "    eigenvalues = eigenvalues[:k] if k != 0 else eigenvalues\n",
    "    # Principle Component QV\n",
    "    principal_components = np.dot(eigenvectors.T, pixel_norm)\n",
    "    # Reconstruct Image\n",
    "    reconstruct = np.dot(eigenvectors, principal_components) + mean\n",
    "\n",
    "    return eigenvectors, eigenvalues, principal_components, reconstruct"
   ],
   "id": "38ba7bb7989944d5",
   "outputs": [],
   "execution_count": 369
  },
  {
   "metadata": {
    "ExecuteTime": {
     "end_time": "2024-11-21T11:58:55.241068Z",
     "start_time": "2024-11-21T11:58:55.235562Z"
    }
   },
   "cell_type": "code",
   "source": [
    "# LDA\n",
    "def lda(data, classes):\n",
    "    num_classes = len(np.unique(classes))\n",
    "    total_mean = np.mean(data, axis=1, keepdims=True)\n",
    "    Sw = None\n",
    "    Sb = None\n",
    "    for c in np.unique(classes):\n",
    "        indices = [i for i, val in enumerate(classes) if val == c]\n",
    "        selected_data = data[:, indices]\n",
    "        # Mean of Class\n",
    "        class_mean = np.mean(selected_data, axis=1, keepdims=True)\n",
    "        selected_data = selected_data - class_mean\n",
    "        # Sw: Scatter matrix within class\n",
    "        Sw_i = np.dot(selected_data, selected_data.T)\n",
    "        if Sw is None:\n",
    "            Sw = Sw_i\n",
    "        else:\n",
    "            Sw += Sw_i\n",
    "        # Sb: Scatter matrix between class\n",
    "        num_samples = selected_data.shape[1]\n",
    "        Sb_i = num_samples * np.dot((class_mean - total_mean), (class_mean - total_mean).T)\n",
    "        if Sb is None:\n",
    "            Sb = Sb_i\n",
    "        else:\n",
    "            Sb += Sb_i\n",
    "\n",
    "    eigvals, eigvecs = np.linalg.eig(np.linalg.inv(Sw).dot(Sb))\n",
    "    idx = np.argsort(eigvals)[::-1]\n",
    "    eigvals = eigvals[idx]\n",
    "    eigvecs = eigvecs[:, idx]\n",
    "\n",
    "    k = num_classes - 1\n",
    "    eigvals = eigvals[:k]\n",
    "    eigvecs = eigvecs[:, :k]\n",
    "    projection = np.dot(eigvecs.T, data)\n",
    "    return eigvecs,eigvals, projection\n"
   ],
   "id": "c8c421b2879983d1",
   "outputs": [],
   "execution_count": 370
  },
  {
   "metadata": {
    "ExecuteTime": {
     "end_time": "2024-11-21T11:59:03.019405Z",
     "start_time": "2024-11-21T11:58:56.185790Z"
    }
   },
   "cell_type": "code",
   "source": [
    "# Process Training data with PCA\n",
    "K = 481\n",
    "train_mean_pca = np.mean(train_data, axis=1, keepdims=True)\n",
    "train_pca_eigen_vect,train_pca_eigen_val,train_pca_principle_components, train_reconstruct = pca(train_data,k=K)"
   ],
   "id": "c3607c11c2d254",
   "outputs": [],
   "execution_count": 371
  },
  {
   "metadata": {
    "ExecuteTime": {
     "end_time": "2024-11-21T11:59:04.457202Z",
     "start_time": "2024-11-21T11:59:03.915216Z"
    }
   },
   "cell_type": "code",
   "source": [
    "# Process Training data with LDA\n",
    "train_mean_lda = np.mean(train_pca_principle_components, axis=1, keepdims=True)\n",
    "train_lda_eigen_vect, train_lda_eigen_val, train_lda_proj = lda(train_pca_principle_components, train_class)\n"
   ],
   "id": "587982cdb5564795",
   "outputs": [],
   "execution_count": 372
  },
  {
   "metadata": {
    "ExecuteTime": {
     "end_time": "2024-11-21T11:59:05.519177Z",
     "start_time": "2024-11-21T11:59:05.235613Z"
    }
   },
   "cell_type": "code",
   "source": [
    "# Process Test data with PCA\n",
    "test_data = test_data - train_mean_pca\n",
    "test_pca_principle_components = np.dot(train_pca_eigen_vect.T, test_data)\n",
    "# Process Test data with LDA\n",
    "test_lda_proj = np.dot(train_lda_eigen_vect.T, test_pca_principle_components)\n"
   ],
   "id": "1ccb0e7d62cd5245",
   "outputs": [],
   "execution_count": 373
  },
  {
   "metadata": {
    "ExecuteTime": {
     "end_time": "2024-11-21T11:59:25.941001Z",
     "start_time": "2024-11-21T11:59:25.683557Z"
    }
   },
   "cell_type": "code",
   "source": [
    "from sklearn.neighbors import KNeighborsClassifier\n",
    "from sklearn.metrics import confusion_matrix, accuracy_score\n",
    "\n",
    "X_train_lda_T = train_lda_proj.T\n",
    "X_test_lda_T = test_lda_proj.T\n",
    "X_train_lda_T = X_train_lda_T.real\n",
    "X_test_lda_T = X_test_lda_T.real\n",
    "# KNN Classifier\n",
    "knn = KNeighborsClassifier(n_neighbors=1,weights='distance')\n",
    "\n",
    "# Fit training data\n",
    "knn.fit(X_train_lda_T, train_class)\n",
    "\n",
    "# Predict test data\n",
    "y_pred = knn.predict(X_test_lda_T)\n",
    "\n",
    "# Accuracy\n",
    "accuracy = accuracy_score(test_class, y_pred)\n",
    "print(\"Accuracy:\", accuracy)\n",
    "\n",
    "# Confusion Matrix\n",
    "conf_mat = confusion_matrix(test_class, y_pred)\n",
    "print(\"Confusion Matrix:\")\n",
    "print(conf_mat)\n"
   ],
   "id": "9231a7d9601a6452",
   "outputs": [
    {
     "name": "stdout",
     "output_type": "stream",
     "text": [
      "Accuracy: 0.8989707046714173\n",
      "Confusion Matrix:\n",
      "[[ 45   0   0 ...   0   0   0]\n",
      " [  1 676  11 ...   0   0   0]\n",
      " [  0  16 696 ...   2   0   0]\n",
      " ...\n",
      " [  0   3   1 ...  62   0   0]\n",
      " [  0   0   0 ...   0  51   0]\n",
      " [  0   0   0 ...   0   1  88]]\n"
     ]
    }
   ],
   "execution_count": 378
  },
  {
   "metadata": {
    "ExecuteTime": {
     "end_time": "2024-11-21T11:55:46.447411Z",
     "start_time": "2024-11-21T11:55:46.443352Z"
    }
   },
   "cell_type": "code",
   "source": "",
   "id": "8da9d1d67ac67cd6",
   "outputs": [],
   "execution_count": null
  },
  {
   "metadata": {},
   "cell_type": "code",
   "outputs": [],
   "execution_count": null,
   "source": "",
   "id": "e6bd2ed18db10a9d"
  }
 ],
 "metadata": {
  "kernelspec": {
   "display_name": "Python 3",
   "language": "python",
   "name": "python3"
  },
  "language_info": {
   "codemirror_mode": {
    "name": "ipython",
    "version": 2
   },
   "file_extension": ".py",
   "mimetype": "text/x-python",
   "name": "python",
   "nbconvert_exporter": "python",
   "pygments_lexer": "ipython2",
   "version": "2.7.6"
  }
 },
 "nbformat": 4,
 "nbformat_minor": 5
}
